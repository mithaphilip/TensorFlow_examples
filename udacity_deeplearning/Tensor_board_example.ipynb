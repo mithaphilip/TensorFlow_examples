{
 "cells": [
  {
   "cell_type": "code",
   "execution_count": 1,
   "metadata": {
    "collapsed": true
   },
   "outputs": [],
   "source": [
    "from __future__ import print_function\n",
    "import numpy as np\n",
    "import tensorflow as tf\n",
    "from six.moves import cPickle as pickle\n",
    "\n",
    "import matplotlib.pyplot as plt\n",
    "import matplotlib.cm as cm\n",
    "import string\n",
    "import random"
   ]
  },
  {
   "cell_type": "code",
   "execution_count": 2,
   "metadata": {
    "collapsed": false
   },
   "outputs": [
    {
     "name": "stdout",
     "output_type": "stream",
     "text": [
      "Training set (200000, 28, 28) (200000,)\n",
      "Validation set (10000, 28, 28) (10000,)\n",
      "Test set (10000, 28, 28) (10000,)\n"
     ]
    }
   ],
   "source": [
    "pickle_file = 'notMNIST.pickle'\n",
    "\n",
    "with open(pickle_file, 'rb') as f:\n",
    "  save = pickle.load(f)\n",
    "  train_dataset = save['train_dataset']\n",
    "  train_labels = save['train_labels']\n",
    "  valid_dataset = save['valid_dataset']\n",
    "  valid_labels = save['valid_labels']\n",
    "  test_dataset = save['test_dataset']\n",
    "  test_labels = save['test_labels']\n",
    "  del save  # hint to help gc free up memory\n",
    "  print('Training set', train_dataset.shape, train_labels.shape)\n",
    "  print('Validation set', valid_dataset.shape, valid_labels.shape)\n",
    "  print('Test set', test_dataset.shape, test_labels.shape)\n",
    "  test_labels_without_reformat = test_labels.copy()"
   ]
  },
  {
   "cell_type": "code",
   "execution_count": 3,
   "metadata": {
    "collapsed": false
   },
   "outputs": [
    {
     "name": "stdout",
     "output_type": "stream",
     "text": [
      "Training set (200000, 784) (200000, 10)\n",
      "Validation set (10000, 784) (10000, 10)\n",
      "Test set (10000, 784) (10000, 10)\n"
     ]
    }
   ],
   "source": [
    "image_size = 28\n",
    "num_labels = 10\n",
    "\n",
    "def reformat(dataset, labels):\n",
    "  dataset = dataset.reshape((-1, image_size * image_size)).astype(np.float32)\n",
    "  # Map 2 to [0.0, 1.0, 0.0 ...], 3 to [0.0, 0.0, 1.0 ...]\n",
    "  labels = (np.arange(num_labels) == labels[:,None]).astype(np.float32)\n",
    "  return dataset, labels\n",
    "train_dataset, train_labels = reformat(train_dataset, train_labels)\n",
    "valid_dataset, valid_labels = reformat(valid_dataset, valid_labels)\n",
    "test_dataset, test_labels = reformat(test_dataset, test_labels)\n",
    "print('Training set', train_dataset.shape, train_labels.shape)\n",
    "print('Validation set', valid_dataset.shape, valid_labels.shape)\n",
    "print('Test set', test_dataset.shape, test_labels.shape)"
   ]
  },
  {
   "cell_type": "code",
   "execution_count": 4,
   "metadata": {
    "collapsed": true
   },
   "outputs": [],
   "source": [
    "def accuracy(predictions, labels):\n",
    "  return (100.0 * np.sum(np.argmax(predictions, 1) == np.argmax(labels, 1))\n",
    "          / predictions.shape[0])\n",
    "\n",
    "def confusion_matrix(ori_labels, pred_labels):\n",
    "    confision_matrix = np.zeros((10, 10))\n",
    "    for ori_lab, pred_lab in zip(ori_labels, pred_labels):\n",
    "        confision_matrix[ori_lab, pred_lab] += 1\n",
    "    return confision_matrix\n",
    "\n",
    "def recall(confusion_mat,lab):\n",
    "    #print(\"True Positives : {} \\nTrue Positives + False Negetives : {}\".format(confusion_mat[lab,lab],np.sum(confusion_mat[:,lab])))\n",
    "    rec = confusion_mat[lab,lab]/np.sum(confusion_mat[:,lab])\n",
    "    #print(\"Recall for class {} : {}\".format(lab,rec))\n",
    "    return rec\n",
    "\n",
    "def precision(confusion_mat,lab):\n",
    "    #print(\"True Positives : {} \\nTrue Positives + False Positives : {}\".format(confusion_mat[lab,lab],np.sum(confusion_mat[lab,:])))\n",
    "    prec = confusion_mat[lab,lab]/np.sum(confusion_mat[lab,:])\n",
    "    #print(\"Precision for class {} : {}\".format(lab,prec))\n",
    "    return prec\n",
    "\n",
    "def f1_score(confusion_mat,lab):\n",
    "    return 2*(precision(confusion_mat,lab)*recall(confusion_mat,lab)) / (precision(confusion_mat,lab) + recall(confusion_mat,lab))\n",
    "\n",
    "def plot_recall_n_precision(confusion_mat):\n",
    "    \"\"\"\n",
    "    Check the number of images under each class or label\n",
    "    and plot a histogram to see if the dataset is balanced\n",
    "    \"\"\"\n",
    "    print(\"Confusion Matrix : \\n{}\".format(confusion_mat))\n",
    "    recall_list = [recall(confusion_mat,x) for x in range(10)]\n",
    "    precision_list = [precision(confusion_mat,x) for x in range(10)]\n",
    "    f1score_list = [f1_score(confusion_mat,x) for x in range(10)]\n",
    "    \n",
    "    plt.figure()\n",
    "    fig, axes = plt.subplots(nrows=3, ncols=1, figsize=(5, 10))\n",
    "    #print(axes) \n",
    "    axes[0].bar(range(10),precision_list)\n",
    "    labels = string.uppercase[:10]\n",
    "    axes[0].set_xticks([x + 0.5 for x in range(10)])\n",
    "    axes[0].set_xticklabels(labels)\n",
    "    axes[0].set_ylabel('Precision')\n",
    "    axes[0].set_xlabel('Image Classes')\n",
    "    axes[0].set_title('Precision Plot')\n",
    "    \n",
    "    axes[1].bar(range(10),recall_list)\n",
    "    axes[1].set_xticks([x + 0.5 for x in range(10)])\n",
    "    axes[1].set_xticklabels(labels)\n",
    "    axes[1].set_ylabel('Recall')\n",
    "    axes[1].set_xlabel('Image Classes')\n",
    "    axes[1].set_title('Recall Plot')\n",
    "    \n",
    "    axes[2].bar(range(10),f1score_list)\n",
    "    axes[2].set_xticks([x + 0.5 for x in range(10)])\n",
    "    axes[2].set_xticklabels(labels)\n",
    "    axes[2].set_ylabel('F1 Score')\n",
    "    axes[2].set_xlabel('Image Classes')\n",
    "    axes[2].set_title('F1 Score Plot')\n",
    "    \n",
    "    fig.tight_layout()\n",
    "    plt.show()"
   ]
  },
  {
   "cell_type": "code",
   "execution_count": 121,
   "metadata": {
    "collapsed": false
   },
   "outputs": [],
   "source": [
    "batch_size = 128\n",
    "image_size = 28\n",
    "num_labels = 10\n",
    "hidden_layer_1_count = 1024\n",
    "hidden_layer_2_count = 512\n",
    "hidden_layer_3_count = 256\n",
    "hidden_layer_4_count = 128\n",
    "\n",
    "batch_size = 256\n",
    "logs_name = \"mnist_logs\"\n",
    "\n",
    "import shutil\n",
    "try:\n",
    "    shutil.rmtree(logs_name)\n",
    "except: \n",
    "    print(\"Unable to delete the dir {}\".format(logs_name))\n",
    "\n",
    "graph = tf.Graph()\n",
    "with graph.as_default():\n",
    "    tf_train_dataset = tf.placeholder(tf.float32,shape=(batch_size, image_size * image_size),name=\"training_data\")\n",
    "    tf_train_labels = tf.placeholder(tf.float32, shape=(batch_size, num_labels),name=\"training_labels\")\n",
    "    tf_valid_dataset = tf.constant(valid_dataset,name=\"validation_data\")\n",
    "    tf_test_dataset = tf.constant(test_dataset,name=\"test_data\")\n",
    "    pred_dataset = tf.placeholder(tf.float32,shape=(10000, image_size * image_size),name=\"pred_data\")\n",
    "    pred_label = tf.placeholder(tf.float32, shape=(10000, num_labels),name=\"pred_labels\")\n",
    "    lamda_i = tf.constant(0.01)\n",
    "        \n",
    "    ##################################\n",
    "    # Input Layer\n",
    "    ##################################\n",
    "    \n",
    "    with tf.name_scope('input_layer'):\n",
    "        with tf.name_scope('weight'):\n",
    "            W_i = tf.Variable(tf.truncated_normal([image_size * image_size, num_labels]),name=\"weight\")\n",
    "        with tf.name_scope('Bias'):\n",
    "            B_i = tf.Variable(tf.zeros([num_labels]))\n",
    "        with tf.name_scope('logits'):    \n",
    "            input_logits = tf.matmul(tf_train_dataset, W_i) + B_i\n",
    "            \n",
    "    ##################################\n",
    "    # Hidden Layer 1\n",
    "    ##################################\n",
    "    \n",
    "    with tf.name_scope('hidden_layer_1'):\n",
    "        with tf.name_scope('weight'):\n",
    "            W_h_1 = tf.Variable(tf.truncated_normal([num_labels,hidden_layer_1_count]),name=\"weight\")\n",
    "        with tf.name_scope('Bias'):\n",
    "            B_h_1 = tf.Variable(tf.zeros([hidden_layer_1_count]))\n",
    "        with tf.name_scope('logits'):    \n",
    "            hidden_logit_1 = tf.matmul(tf.nn.relu6(input_logits),W_h_1) + B_h_1\n",
    "            \n",
    "            \n",
    "    \n",
    "    ##################################\n",
    "    # Output Layer \n",
    "    ##################################\n",
    "    \n",
    "    with tf.name_scope('output_layer'):\n",
    "        with tf.name_scope('weight'):\n",
    "            W_o = tf.Variable(tf.truncated_normal([hidden_layer_1_count,num_labels]),name=\"weight\")\n",
    "        with tf.name_scope('Bias'):\n",
    "            B_o = tf.Variable(tf.zeros([num_labels]))\n",
    "        with tf.name_scope('logits'):    \n",
    "            output_logit = tf.matmul(tf.nn.relu6(hidden_logit_1),W_o) + B_o    \n",
    "    \n",
    "            \n",
    "    ##################################\n",
    "    # SGD Optimizer\n",
    "    ##################################         \n",
    "    with tf.name_scope('sgd_optimizer'):\n",
    "        with tf.name_scope('loss'):\n",
    "            loss = tf.reduce_mean(tf.nn.softmax_cross_entropy_with_logits(output_logit , tf_train_labels))\n",
    "        with tf.name_scope('sgd'):\n",
    "            optimizer = tf.train.GradientDescentOptimizer(0.5).minimize(loss)\n",
    "        \n",
    "    tf.histogram_summary(\"Loss\",loss)\n",
    "        \n",
    "    with tf.name_scope('prediction_layer'):\n",
    "        train_prediction = tf.nn.softmax(output_logit)\n",
    "        for_prediction = tf.nn.softmax(tf.matmul(tf.nn.relu6(tf.matmul(tf.nn.relu6(tf.matmul(pred_dataset, W_i)+ B_i),W_h_1) + B_h_1),W_o) + B_o)\n",
    "        for_train_accuracy = tf.placeholder(tf.float32,name=\"train_accuracy\")\n",
    "        for_valid_accuracy = tf.placeholder(tf.float32,name=\"valid_accuracy\")\n",
    "    tf.histogram_summary(\"Train Accuracy\",for_train_accuracy)\n",
    "    tf.histogram_summary(\"Validation Accuracy\",for_valid_accuracy)   \n",
    "    #im_t = tf.placeholder(tf.float32, shape=[None,28,28,1], name='img_tensor')\n",
    "    #tf.image_summary(\"img\", im_t)\n",
    "    merged = tf.merge_all_summaries()\n",
    "    \n",
    "            "
   ]
  },
  {
   "cell_type": "code",
   "execution_count": 122,
   "metadata": {
    "collapsed": false
   },
   "outputs": [
    {
     "name": "stdout",
     "output_type": "stream",
     "text": [
      "Initialized\n",
      "Minibatch loss at step 0: 101.975395\n",
      "Minibatch loss at step 500: 3.647011\n",
      "Test accuracy: 22.4%\n"
     ]
    }
   ],
   "source": [
    "num_steps = 1000\n",
    "\n",
    "with tf.Session(graph=graph) as session:\n",
    "  writer = tf.train.SummaryWriter(logs_name, session.graph_def)\n",
    "  tf.initialize_all_variables().run()\n",
    "  print(\"Initialized\")\n",
    "  for step in range(num_steps):\n",
    "    offset = (step * batch_size) % (train_labels.shape[0] - batch_size)\n",
    "    batch_data = train_dataset[offset:(offset + batch_size), :]\n",
    "    batch_labels = train_labels[offset:(offset + batch_size), :]\n",
    "    feed_dict = {tf_train_dataset : batch_data, tf_train_labels : batch_labels}\n",
    "    _, l, predictions = session.run([optimizer, loss, train_prediction], feed_dict=feed_dict)\n",
    "    #print(predictions.type)\n",
    "    #break\n",
    "    \n",
    "   \n",
    "    if (step % 500 == 0):\n",
    "            print(\"Minibatch loss at step %d: %f\" % (step, l))\n",
    "            #print (for_prediction.eval(feed_dict={pred_dataset : valid_dataset}))\n",
    "            #valid_acc = accuracy(for_prediction.eval(feed_dict={tf_train_dataset : tf_valid_dataset}), valid_labels)\n",
    "            #print(tf.expand_dims(valid_dataset[1].reshape((28, 28,1)),0).eval())\n",
    "            #print(valid_dataset[1].reshape((28, 28,1)))\n",
    "            disp_dict = {tf_train_dataset : batch_data,\n",
    "                         tf_train_labels : batch_labels,\n",
    "                         for_train_accuracy: accuracy(predictions, batch_labels),\n",
    "                         for_valid_accuracy: accuracy(for_prediction.eval(feed_dict={pred_dataset : valid_dataset}), valid_labels),\n",
    "                        }\n",
    "                         #im_t : tf.expand_dims(valid_dataset[1].reshape((28, 28,1)),0).eval()\n",
    "                        #}\n",
    "            summary_str = merged.eval(feed_dict = disp_dict)\n",
    "            writer.add_summary(summary_str, step)\n",
    "            #train_accuracy = accuracy(predictions, batch_labels)\n",
    "            #print(accuracy(predictions, batch_labels))\n",
    "            #writer.add_summary(bla.eval(feed_dict={train_accuracy: accuracy(predictions, batch_labels)}), step)\n",
    "            \n",
    "            #print(\"chiraku dobbutundi %d : %f \")% (step,train_accuracy.eval(feed_dict={pred_dataset : valid_dataset, pred_label : valid_labels}))\n",
    "            #print(\"Minibatch accuracy: %.1f%%\" % accuracy(predictions, batch_labels))\n",
    "            #print(\"Validation accuracy: %.1f%%\" % accuracy(test_prediction.eval(feed_dict={pred_dataset : valid_dataset, pred_label : valid_labels}),valid_labels))\n",
    "    #except:\n",
    "    #    print(\"Training interrepted : Stupid bug\")\n",
    "  pred_list = for_prediction.eval(feed_dict={pred_dataset : test_dataset})\n",
    "  print(\"Test accuracy: %.1f%%\" % accuracy(pred_list, test_labels.copy()))"
   ]
  },
  {
   "cell_type": "code",
   "execution_count": null,
   "metadata": {
    "collapsed": true
   },
   "outputs": [],
   "source": []
  }
 ],
 "metadata": {
  "kernelspec": {
   "display_name": "Python 2",
   "language": "python",
   "name": "python2"
  },
  "language_info": {
   "codemirror_mode": {
    "name": "ipython",
    "version": 2
   },
   "file_extension": ".py",
   "mimetype": "text/x-python",
   "name": "python",
   "nbconvert_exporter": "python",
   "pygments_lexer": "ipython2",
   "version": "2.7.10"
  }
 },
 "nbformat": 4,
 "nbformat_minor": 0
}
