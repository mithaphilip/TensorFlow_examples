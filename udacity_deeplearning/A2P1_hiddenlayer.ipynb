{
 "cells": [
  {
   "cell_type": "markdown",
   "metadata": {},
   "source": [
    "Problem\n",
    "Turn the logistic regression example with SGD into a 1-hidden layer neural network with rectified linear units (nn.relu()) and 1024 hidden nodes. This model should improve your validation / test accuracy."
   ]
  },
  {
   "cell_type": "code",
   "execution_count": 1,
   "metadata": {
    "collapsed": true
   },
   "outputs": [],
   "source": [
    "# These are all the modules we'll be using later. Make sure you can import them\n",
    "# before proceeding further.\n",
    "%matplotlib inline\n",
    "from __future__ import print_function\n",
    "import numpy as np\n",
    "import tensorflow as tf\n",
    "from six.moves import cPickle as pickle\n",
    "from six.moves import range\n",
    "import matplotlib.pyplot as plt\n",
    "import matplotlib.cm as cm\n",
    "import string\n",
    "import random"
   ]
  },
  {
   "cell_type": "code",
   "execution_count": 2,
   "metadata": {
    "collapsed": false
   },
   "outputs": [
    {
     "name": "stdout",
     "output_type": "stream",
     "text": [
      "Training set (200000, 28, 28) (200000,)\n",
      "Validation set (10000, 28, 28) (10000,)\n",
      "Test set (10000, 28, 28) (10000,)\n"
     ]
    }
   ],
   "source": [
    "pickle_file = 'notMNIST.pickle'\n",
    "\n",
    "with open(pickle_file, 'rb') as f:\n",
    "  save = pickle.load(f)\n",
    "  train_dataset = save['train_dataset']\n",
    "  train_labels = save['train_labels']\n",
    "  valid_dataset = save['valid_dataset']\n",
    "  valid_labels = save['valid_labels']\n",
    "  test_dataset = save['test_dataset']\n",
    "  test_labels = save['test_labels']\n",
    "  del save  # hint to help gc free up memory\n",
    "  print('Training set', train_dataset.shape, train_labels.shape)\n",
    "  print('Validation set', valid_dataset.shape, valid_labels.shape)\n",
    "  print('Test set', test_dataset.shape, test_labels.shape)\n",
    "\n",
    "  test_labels_without_reformat = test_labels.copy()"
   ]
  },
  {
   "cell_type": "code",
   "execution_count": 3,
   "metadata": {
    "collapsed": false
   },
   "outputs": [
    {
     "name": "stdout",
     "output_type": "stream",
     "text": [
      "Training set (200000, 784) (200000, 10)\n",
      "Validation set (10000, 784) (10000, 10)\n",
      "Test set (10000, 784) (10000, 10)\n"
     ]
    }
   ],
   "source": [
    "image_size = 28\n",
    "num_labels = 10\n",
    "\n",
    "def reformat(dataset, labels):\n",
    "  dataset = dataset.reshape((-1, image_size * image_size)).astype(np.float32)\n",
    "  # Map 0 to [1.0, 0.0, 0.0 ...], 1 to [0.0, 1.0, 0.0 ...]\n",
    "  labels = (np.arange(num_labels) == labels[:,None]).astype(np.float32)\n",
    "  return dataset, labels\n",
    "train_dataset, train_labels = reformat(train_dataset, train_labels)\n",
    "valid_dataset, valid_labels = reformat(valid_dataset, valid_labels)\n",
    "test_dataset, test_labels = reformat(test_dataset, test_labels)\n",
    "print('Training set', train_dataset.shape, train_labels.shape)\n",
    "print('Validation set', valid_dataset.shape, valid_labels.shape)\n",
    "print('Test set', test_dataset.shape, test_labels.shape)"
   ]
  },
  {
   "cell_type": "markdown",
   "metadata": {},
   "source": [
    "So going though the lectures again I feel that the solution for this problem would be by adding the relu into the Logits. \n",
    "\n",
    "### Input layer \n",
    "\n",
    "` input_layer = x*W + Bias ` Where the final dimensions are 128 x 10, W : 784 x 10 ; B : 1 x 10\n",
    "\n",
    "### Hidden Layer \n",
    "\n",
    "` hidden_layer = relu(input_layer) Wh + Bh ` Where the Dimensions of Wh are 10 x 1000 and Bh are 1 x 1000, final\n",
    "dimensions are 128 x 1000\n",
    "\n",
    "### Output Layer\n",
    "\n",
    "` output_layer = relu(hidden_layer) Wo + Bo ` Where the Dimensions of Wo are 1000 x 10 and Bo are 1 x 10, final dimensions are 128 x 10"
   ]
  },
  {
   "cell_type": "code",
   "execution_count": 4,
   "metadata": {
    "collapsed": true
   },
   "outputs": [],
   "source": [
    "def weight_variable(shape):\n",
    "  initial = tf.truncated_normal(shape,stddev=0.1)\n",
    "  return tf.Variable(initial)\n",
    "\n",
    "def bias_variable(shape):\n",
    "  #initial = tf.zeros(shape)\n",
    "  initial = tf.constant(0.1, shape=shape)\n",
    "  return tf.Variable(initial)\n",
    "\n",
    "def prediction_function(dataset,W_i,B_i,W_h,B_h,W_o,B_o):\n",
    "    return tf.nn.softmax(tf.matmul(tf.nn.relu(tf.matmul(tf.nn.relu(tf.matmul(dataset,W_i) + B_i),W_h) + B_h),W_o) + B_o)  "
   ]
  },
  {
   "cell_type": "code",
   "execution_count": 5,
   "metadata": {
    "collapsed": false
   },
   "outputs": [],
   "source": [
    "batch_size = 128\n",
    "image_size = 28\n",
    "num_labels = 10\n",
    "hidden_layer_count = 1024\n",
    "batch_size = 128\n",
    "\n",
    "graph = tf.Graph()\n",
    "with graph.as_default():\n",
    "    tf_train_dataset = tf.placeholder(tf.float32,shape=(batch_size, image_size * image_size))\n",
    "    tf_train_labels = tf.placeholder(tf.float32, shape=(batch_size, num_labels))\n",
    "    tf_valid_dataset = tf.constant(valid_dataset)\n",
    "    tf_test_dataset = tf.constant(test_dataset)\n",
    "    \n",
    "    ##################################\n",
    "    # Input Layer\n",
    "    ##################################\n",
    "    # Variables\n",
    "    W_i = weight_variable([image_size*image_size,num_labels])\n",
    "    B_i = bias_variable([num_labels])\n",
    "    \n",
    "    # Training computation    \n",
    "    input_logit = tf.matmul(tf_train_dataset,W_i) + B_i\n",
    "    \n",
    "    ##################################\n",
    "    # Hidden Layer\n",
    "    ##################################\n",
    "    # Variables\n",
    "    W_h = weight_variable([num_labels,hidden_layer_count])\n",
    "    B_h = bias_variable([hidden_layer_count])\n",
    "    \n",
    "    # Training computation    \n",
    "    hidden_logit = tf.matmul(tf.nn.relu(input_logit),W_h) + B_h\n",
    "    \n",
    "    ##################################\n",
    "    # Output Layer\n",
    "    ##################################\n",
    "    # Variables\n",
    "    W_o = weight_variable([hidden_layer_count,num_labels])\n",
    "    B_o = bias_variable([num_labels])\n",
    "    \n",
    "    # Training computation    \n",
    "    output_logit = tf.matmul(tf.nn.relu(hidden_logit),W_o) + B_o  \n",
    "    loss = tf.reduce_mean(tf.nn.softmax_cross_entropy_with_logits(output_logit, tf_train_labels))\n",
    "    \n",
    "    # Optimizer.\n",
    "    optimizer = tf.train.GradientDescentOptimizer(0.5).minimize(loss)\n",
    "    \n",
    "    # Function for prediction\n",
    "    \n",
    "    # Predictions for the training, validation, and test data.\n",
    "    train_prediction = tf.nn.softmax(output_logit)\n",
    "    valid_prediction = prediction_function(tf_valid_dataset,W_i,B_i,W_h,B_h,W_o,B_o)\n",
    "    test_prediction = prediction_function(tf_test_dataset,W_i,B_i,W_h,B_h,W_o,B_o)\n",
    "    \n",
    "    "
   ]
  },
  {
   "cell_type": "code",
   "execution_count": 6,
   "metadata": {
    "collapsed": true
   },
   "outputs": [],
   "source": [
    "def accuracy(predictions, labels):\n",
    "  return (100.0 * np.sum(np.argmax(predictions, 1) == np.argmax(labels, 1))\n",
    "          / predictions.shape[0])"
   ]
  },
  {
   "cell_type": "code",
   "execution_count": 7,
   "metadata": {
    "collapsed": false
   },
   "outputs": [
    {
     "name": "stdout",
     "output_type": "stream",
     "text": [
      "Initialized\n",
      "Minibatch loss at step 0: 2.389378\n",
      "Minibatch accuracy: 7.0%\n",
      "Validation accuracy: 14.9%\n",
      "Minibatch loss at step 500: 0.460418\n",
      "Minibatch accuracy: 85.9%\n",
      "Validation accuracy: 82.8%\n",
      "Minibatch loss at step 1000: 0.481364\n",
      "Minibatch accuracy: 85.9%\n",
      "Validation accuracy: 83.1%\n",
      "Minibatch loss at step 1500: 0.409366\n",
      "Minibatch accuracy: 86.7%\n",
      "Validation accuracy: 83.4%\n",
      "Minibatch loss at step 2000: 0.584312\n",
      "Minibatch accuracy: 79.7%\n",
      "Validation accuracy: 83.4%\n",
      "Minibatch loss at step 2500: 0.501343\n",
      "Minibatch accuracy: 83.6%\n",
      "Validation accuracy: 84.1%\n",
      "Test accuracy: 90.6%\n"
     ]
    }
   ],
   "source": [
    "num_steps = 3000\n",
    "\n",
    "with tf.Session(graph=graph) as session:\n",
    "  tf.initialize_all_variables().run()\n",
    "  print(\"Initialized\")\n",
    "  for step in range(num_steps):\n",
    "    offset = (step * batch_size) % (train_labels.shape[0] - batch_size)\n",
    "    batch_data = train_dataset[offset:(offset + batch_size), :]\n",
    "    batch_labels = train_labels[offset:(offset + batch_size), :]\n",
    "    feed_dict = {tf_train_dataset : batch_data, tf_train_labels : batch_labels}\n",
    "    _, l, predictions = session.run(\n",
    "      [optimizer, loss, train_prediction], feed_dict=feed_dict)\n",
    "    if (step % 500 == 0):\n",
    "      print(\"Minibatch loss at step %d: %f\" % (step, l))\n",
    "      print(\"Minibatch accuracy: %.1f%%\" % accuracy(predictions, batch_labels))\n",
    "      print(\"Validation accuracy: %.1f%%\" % accuracy(\n",
    "        valid_prediction.eval(), valid_labels))\n",
    "  pred_list = test_prediction.eval()\n",
    "  print(\"Test accuracy: %.1f%%\" % accuracy(test_prediction.eval(), test_labels.copy()))"
   ]
  },
  {
   "cell_type": "code",
   "execution_count": 8,
   "metadata": {
    "collapsed": false
   },
   "outputs": [
    {
     "name": "stdout",
     "output_type": "stream",
     "text": [
      "Confusion Matrix : \n",
      "[[ 921.    7.    2.    2.    4.    9.    7.   31.    8.    9.]\n",
      " [   6.  914.    3.   11.   14.   10.   11.   15.   10.    6.]\n",
      " [   3.    2.  902.    2.   43.   11.   18.    5.   14.    0.]\n",
      " [   7.   54.    4.  880.    3.    6.    6.    5.   13.   22.]\n",
      " [   5.   15.   14.    1.  889.   22.   12.   10.   26.    6.]\n",
      " [   4.    3.    2.    3.    6.  943.    6.    3.   18.   12.]\n",
      " [   9.   10.   18.    2.   10.   27.  904.    8.    5.    7.]\n",
      " [  16.   15.    3.    1.    3.   11.   10.  912.   26.    3.]\n",
      " [   8.    8.    3.    9.    9.   15.   12.   15.  873.   48.]\n",
      " [   6.    7.    0.    3.    5.    8.    8.    4.   36.  923.]]\n"
     ]
    },
    {
     "data": {
      "text/plain": [
       "<matplotlib.figure.Figure at 0x10d393650>"
      ]
     },
     "metadata": {},
     "output_type": "display_data"
    },
    {
     "data": {
      "image/png": "[encoded data removed]",
      "text/plain": [
       "<matplotlib.figure.Figure at 0x13a4f0b50>"
      ]
     },
     "metadata": {},
     "output_type": "display_data"
    }
   ],
   "source": [
    "def confusion_matrix(ori_labels, pred_labels):\n",
    "    confision_matrix = np.zeros((10, 10))\n",
    "    for ori_lab, pred_lab in zip(ori_labels, pred_labels):\n",
    "        confision_matrix[ori_lab, pred_lab] += 1\n",
    "    return confision_matrix\n",
    "\n",
    "def recall(confusion_mat,lab):\n",
    "    #print(\"True Positives : {} \\nTrue Positives + False Negetives : {}\".format(confusion_mat[lab,lab],np.sum(confusion_mat[:,lab])))\n",
    "    rec = confusion_mat[lab,lab]/np.sum(confusion_mat[:,lab])\n",
    "    #print(\"Recall for class {} : {}\".format(lab,rec))\n",
    "    return rec\n",
    "\n",
    "def precision(confusion_mat,lab):\n",
    "    #print(\"True Positives : {} \\nTrue Positives + False Positives : {}\".format(confusion_mat[lab,lab],np.sum(confusion_mat[lab,:])))\n",
    "    prec = confusion_mat[lab,lab]/np.sum(confusion_mat[lab,:])\n",
    "    #print(\"Precision for class {} : {}\".format(lab,prec))\n",
    "    return prec\n",
    "\n",
    "def f1_score(confusion_mat,lab):\n",
    "    return 2*(precision(confusion_mat,lab)*recall(confusion_mat,lab)) / (precision(confusion_mat,lab) + recall(confusion_mat,lab))\n",
    "\n",
    "def plot_recall_n_precision(confusion_mat):\n",
    "    \"\"\"\n",
    "    Check the number of images under each class or label\n",
    "    and plot a histogram to see if the dataset is balanced\n",
    "    \"\"\"\n",
    "    print(\"Confusion Matrix : \\n{}\".format(confusion_mat))\n",
    "    recall_list = [recall(confusion_mat,x) for x in range(10)]\n",
    "    precision_list = [precision(confusion_mat,x) for x in range(10)]\n",
    "    f1score_list = [f1_score(confusion_mat,x) for x in range(10)]\n",
    "    \n",
    "    plt.figure()\n",
    "    fig, axes = plt.subplots(nrows=3, ncols=1, figsize=(5, 10))\n",
    "    #print(axes) \n",
    "    axes[0].bar(range(10),precision_list)\n",
    "    labels = string.uppercase[:10]\n",
    "    axes[0].set_xticks([x + 0.5 for x in range(10)])\n",
    "    axes[0].set_xticklabels(labels)\n",
    "    axes[0].set_ylabel('Precision')\n",
    "    axes[0].set_xlabel('Image Classes')\n",
    "    axes[0].set_title('Precision Plot')\n",
    "    \n",
    "    axes[1].bar(range(10),recall_list)\n",
    "    axes[1].set_xticks([x + 0.5 for x in range(10)])\n",
    "    axes[1].set_xticklabels(labels)\n",
    "    axes[1].set_ylabel('Recall')\n",
    "    axes[1].set_xlabel('Image Classes')\n",
    "    axes[1].set_title('Recall Plot')\n",
    "    \n",
    "    axes[2].bar(range(10),f1score_list)\n",
    "    axes[2].set_xticks([x + 0.5 for x in range(10)])\n",
    "    axes[2].set_xticklabels(labels)\n",
    "    axes[2].set_ylabel('F1 Score')\n",
    "    axes[2].set_xlabel('Image Classes')\n",
    "    axes[2].set_title('F1 Score Plot')\n",
    "    \n",
    "    fig.tight_layout()\n",
    "    plt.show()\n",
    "\n",
    "plot_recall_n_precision(confusion_matrix(test_labels_without_reformat,[x for x in np.argmax(pred_list, 1)]))"
   ]
  },
  {
   "cell_type": "code",
   "execution_count": null,
   "metadata": {
    "collapsed": true
   },
   "outputs": [],
   "source": []
  }
 ],
 "metadata": {
  "kernelspec": {
   "display_name": "Python 2",
   "language": "python",
   "name": "python2"
  },
  "language_info": {
   "codemirror_mode": {
    "name": "ipython",
    "version": 2
   },
   "file_extension": ".py",
   "mimetype": "text/x-python",
   "name": "python",
   "nbconvert_exporter": "python",
   "pygments_lexer": "ipython2",
   "version": "2.7.10"
  }
 },
 "nbformat": 4,
 "nbformat_minor": 0
}
